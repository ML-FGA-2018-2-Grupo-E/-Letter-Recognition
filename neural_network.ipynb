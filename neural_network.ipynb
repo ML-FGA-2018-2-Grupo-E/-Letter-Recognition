{
 "cells": [
  {
   "cell_type": "markdown",
   "metadata": {},
   "source": [
    "# Neural Network\n",
    "\n",
    "Uma rede neural consiste em unidades (neurônios), organizadas em camadas, que convertem um vetor de entrada em alguma saída. Cada unidade recebe uma entrada, aplica uma função (geralmente não linear) a ela e depois passa a saída para a próxima camada. \n",
    "A saída da unidade alimenta todas as unidades na próxima camada, mas não há feedback para a camada anterior.  \n",
    "\n",
    "\n",
    "Nesse exemplo foi usado o MLPClassifier que treina iterativamente uma vez que, a cada passo de tempo, as derivadas \n",
    "parciais da função de perda em relação aos parâmetros do modelo são calculadas para atualizar os parâmetros.  \n",
    "\n",
    "Na estrutura unidirecional (feedforward), todas as saídas dos neurônios de uma camada são conectadas com todos os neurônios da camada posterior obedecendo à direção entrada => saída, sem conexões entre neurônios de uma mesma camada.\n",
    "\n",
    "![exemplo](https://www.monolitonimbus.com.br/wp-content/uploads/2017/05/neuronios_rna.gif)\n",
    "\n",
    "\n",
    "**Hiperparâmetros:**\n",
    "\n",
    "- hidden_layer_sizes - Número de neurônios na camada oculta\n",
    "- max_iter - Número máximo de iterações\n",
    "- alpha - Termo de regularização\n",
    "- solver - Otimizador baseado em gradiente estocástico proposto por Kingma, Diederik e Jimmy Ba\n",
    "- verbose - Se deve imprimir mensagens de progresso.\n",
    "- tol - Ponto de convergência\n",
    "- random_state - Gerador de números aleatórios\n",
    "- learning_rate_init - Taxa de aprendizado constante dada por.  "
   ]
  },
  {
   "cell_type": "markdown",
   "metadata": {},
   "source": [
    "## Biblioteca e dados"
   ]
  },
  {
   "cell_type": "code",
   "execution_count": 10,
   "metadata": {},
   "outputs": [],
   "source": [
    "from sklearn.neural_network import MLPClassifier\n",
    "from load_and_prepare_data import load_and_prepare_data\n",
    "from sklearn import preprocessing \n",
    "from sklearn.metrics import confusion_matrix\n",
    "from sklearn import metrics\n",
    "from sklearn.model_selection import train_test_split\n",
    "import matplotlib.pyplot as plt\n",
    "import pandas as pd\n",
    "import numpy as np\n",
    "import seaborn as sn\n",
    "\n",
    "\n",
    "import time\n",
    "\n",
    "y_column = 'lettr'\n",
    "x_columns = ['x-box','y-box','width','high','onpix','x-bar','y-bar','x2bar','y2bar','xybar','x2ybr','xy2br','x-ege','xegvy','y-ege','yegvx']\n",
    "columns = [y_column] + x_columns\n",
    "\n",
    "def load_and_prepare_data(training_set_number=16000):\n",
    "    data = 'data_set/letter-recognition.data'\n",
    "    df = pd.read_csv(data, names = columns)\n",
    "    if training_set_number > len(df):\n",
    "        training_set_number = int(0.75 * len(df))\n",
    "\n",
    "    letters = np.unique(df.iloc[:, 0])\n",
    "    labelencoder_df = preprocessing.LabelEncoder()\n",
    "    \n",
    "\n",
    "    train=df.iloc[:training_set_number]\n",
    "    test=df[training_set_number:]\n",
    "\n",
    "\n",
    "    x_train = train.iloc[:, 1:].values\n",
    "    x_test = test.iloc[:, 1:].values\n",
    "    y_train = train[y_column].values\n",
    "    y_test = test[y_column].values\n",
    "    return x_train, x_test, y_train, y_test\n",
    "\n",
    "# Divide os dados em conjunto de treinamento e em conjunto de teste\n",
    "features_train, features_test, letter_train, letter_test = load_and_prepare_data()\n",
    "\n",
    "\n"
   ]
  },
  {
   "cell_type": "markdown",
   "metadata": {},
   "source": [
    "## Treinamento"
   ]
  },
  {
   "cell_type": "code",
   "execution_count": 11,
   "metadata": {},
   "outputs": [
    {
     "name": "stdout",
     "output_type": "stream",
     "text": [
      "Iteration 1, loss = 1.69436319\n",
      "Iteration 2, loss = 1.03508149\n",
      "Iteration 3, loss = 0.88314122\n",
      "Iteration 4, loss = 0.76971291\n",
      "Iteration 5, loss = 0.69135538\n",
      "Iteration 6, loss = 0.62358481\n",
      "Iteration 7, loss = 0.56863085\n",
      "Iteration 8, loss = 0.52675672\n",
      "Iteration 9, loss = 0.49276286\n",
      "Iteration 10, loss = 0.44615678\n",
      "Iteration 11, loss = 0.41884060\n",
      "Iteration 12, loss = 0.38847118\n",
      "Iteration 13, loss = 0.35787431\n",
      "Iteration 14, loss = 0.34420762\n",
      "Iteration 15, loss = 0.32290841\n",
      "Iteration 16, loss = 0.31079079\n",
      "Iteration 17, loss = 0.29543563\n",
      "Iteration 18, loss = 0.28144752\n",
      "Iteration 19, loss = 0.26495969\n",
      "Iteration 20, loss = 0.25549006\n",
      "Iteration 21, loss = 0.24352443\n",
      "Iteration 22, loss = 0.23728427\n",
      "Iteration 23, loss = 0.22300808\n",
      "Iteration 24, loss = 0.21659838\n",
      "Iteration 25, loss = 0.20890180\n",
      "Iteration 26, loss = 0.20202439\n",
      "Iteration 27, loss = 0.19670168\n",
      "Iteration 28, loss = 0.19395220\n",
      "Iteration 29, loss = 0.18126571\n",
      "Iteration 30, loss = 0.17942591\n",
      "Iteration 31, loss = 0.17272849\n",
      "Iteration 32, loss = 0.17122721\n",
      "Iteration 33, loss = 0.16474235\n",
      "Iteration 34, loss = 0.16038272\n",
      "Iteration 35, loss = 0.15821788\n",
      "Iteration 36, loss = 0.15047618\n",
      "Iteration 37, loss = 0.14577822\n",
      "Iteration 38, loss = 0.14071010\n",
      "Iteration 39, loss = 0.13832272\n",
      "Iteration 40, loss = 0.13441836\n",
      "Iteration 41, loss = 0.12983098\n",
      "Iteration 42, loss = 0.13112142\n",
      "Iteration 43, loss = 0.13114208\n",
      "Iteration 44, loss = 0.12193098\n",
      "Iteration 45, loss = 0.12426938\n",
      "Iteration 46, loss = 0.11500922\n",
      "Iteration 47, loss = 0.11072432\n",
      "Iteration 48, loss = 0.10901151\n",
      "Iteration 49, loss = 0.10856732\n",
      "Iteration 50, loss = 0.10605010\n",
      "Iteration 51, loss = 0.10249957\n",
      "Iteration 52, loss = 0.10704940\n",
      "Iteration 53, loss = 0.09780775\n",
      "Iteration 54, loss = 0.09412918\n",
      "Iteration 55, loss = 0.10188082\n",
      "Iteration 56, loss = 0.09348195\n",
      "Iteration 57, loss = 0.09265814\n",
      "Iteration 58, loss = 0.09487301\n",
      "Iteration 59, loss = 0.08900493\n",
      "Iteration 60, loss = 0.09180024\n",
      "Iteration 61, loss = 0.08058200\n",
      "Iteration 62, loss = 0.09104279\n",
      "Iteration 63, loss = 0.08480616\n",
      "Iteration 64, loss = 0.07876743\n",
      "Iteration 65, loss = 0.07813115\n",
      "Iteration 66, loss = 0.07766783\n",
      "Iteration 67, loss = 0.08085958\n",
      "Iteration 68, loss = 0.07821794\n",
      "Iteration 69, loss = 0.07776622\n",
      "Iteration 70, loss = 0.07125783\n",
      "Iteration 71, loss = 0.06865892\n",
      "Iteration 72, loss = 0.07057490\n",
      "Iteration 73, loss = 0.07260719\n",
      "Iteration 74, loss = 0.06652844\n",
      "Iteration 75, loss = 0.06740521\n",
      "Iteration 76, loss = 0.07205792\n",
      "Iteration 77, loss = 0.06519959\n",
      "Iteration 78, loss = 0.06232676\n",
      "Iteration 79, loss = 0.06504093\n",
      "Iteration 80, loss = 0.06832730\n",
      "Iteration 81, loss = 0.06384203\n",
      "Iteration 82, loss = 0.05968274\n",
      "Iteration 83, loss = 0.05620866\n",
      "Iteration 84, loss = 0.06701114\n",
      "Iteration 85, loss = 0.05695194\n",
      "Iteration 86, loss = 0.05219807\n",
      "Iteration 87, loss = 0.05356486\n",
      "Iteration 88, loss = 0.05661664\n",
      "Iteration 89, loss = 0.05371937\n",
      "Iteration 90, loss = 0.05707118\n",
      "Iteration 91, loss = 0.05198218\n",
      "Iteration 92, loss = 0.04659917\n",
      "Iteration 93, loss = 0.05262088\n",
      "Iteration 94, loss = 0.05101981\n",
      "Iteration 95, loss = 0.04560971\n",
      "Iteration 96, loss = 0.04577884\n",
      "Iteration 97, loss = 0.04536930\n",
      "Iteration 98, loss = 0.04356842\n",
      "Iteration 99, loss = 0.04583926\n",
      "Iteration 100, loss = 0.05011119\n",
      "Iteration 101, loss = 0.04135158\n",
      "Iteration 102, loss = 0.04941282\n",
      "Iteration 103, loss = 0.04718263\n",
      "Iteration 104, loss = 0.04499438\n",
      "Iteration 105, loss = 0.04142310\n",
      "Iteration 106, loss = 0.03864925\n",
      "Iteration 107, loss = 0.04599623\n",
      "Iteration 108, loss = 0.04177419\n",
      "Iteration 109, loss = 0.03702265\n",
      "Iteration 110, loss = 0.04340231\n",
      "Iteration 111, loss = 0.04209439\n",
      "Iteration 112, loss = 0.03846965\n",
      "Iteration 113, loss = 0.03549686\n",
      "Iteration 114, loss = 0.03532970\n",
      "Iteration 115, loss = 0.03562593\n",
      "Iteration 116, loss = 0.03849251\n",
      "Iteration 117, loss = 0.03616711\n",
      "Iteration 118, loss = 0.03399009\n",
      "Iteration 119, loss = 0.03264367\n",
      "Iteration 120, loss = 0.03332319\n",
      "Iteration 121, loss = 0.03265952\n",
      "Iteration 122, loss = 0.03341294\n",
      "Iteration 123, loss = 0.03269742\n",
      "Iteration 124, loss = 0.04141110\n",
      "Iteration 125, loss = 0.04388503\n",
      "Iteration 126, loss = 0.04286127\n",
      "Iteration 127, loss = 0.03259889\n",
      "Iteration 128, loss = 0.03068851\n",
      "Iteration 129, loss = 0.02678658\n",
      "Iteration 130, loss = 0.02759071\n",
      "Iteration 131, loss = 0.03549642\n",
      "Iteration 132, loss = 0.02904437\n",
      "Iteration 133, loss = 0.02430533\n",
      "Iteration 134, loss = 0.02393338\n",
      "Iteration 135, loss = 0.02878796\n",
      "Iteration 136, loss = 0.02643707\n",
      "Iteration 137, loss = 0.02602471\n",
      "Iteration 138, loss = 0.03216084\n",
      "Iteration 139, loss = 0.03696704\n",
      "Iteration 140, loss = 0.02906599\n",
      "Iteration 141, loss = 0.03184912\n",
      "Iteration 142, loss = 0.02995148\n",
      "Iteration 143, loss = 0.02625223\n",
      "Iteration 144, loss = 0.02329248\n",
      "Iteration 145, loss = 0.02242130\n",
      "Iteration 146, loss = 0.02307754\n",
      "Iteration 147, loss = 0.02444384\n",
      "Iteration 148, loss = 0.02738036\n",
      "Iteration 149, loss = 0.02534167\n",
      "Iteration 150, loss = 0.02827955\n",
      "Iteration 151, loss = 0.02549078\n",
      "Iteration 152, loss = 0.02392781\n",
      "Iteration 153, loss = 0.03462499\n",
      "Iteration 154, loss = 0.03934773\n",
      "Iteration 155, loss = 0.02641513\n",
      "Iteration 156, loss = 0.01871124\n",
      "Iteration 157, loss = 0.01708350\n",
      "Iteration 158, loss = 0.01829363\n",
      "Iteration 159, loss = 0.01821544\n",
      "Iteration 160, loss = 0.01679976\n",
      "Iteration 161, loss = 0.02576075\n",
      "Iteration 162, loss = 0.02821263\n",
      "Iteration 163, loss = 0.03645561\n",
      "Iteration 164, loss = 0.02519087\n",
      "Iteration 165, loss = 0.02115739\n",
      "Iteration 166, loss = 0.01784326\n",
      "Iteration 167, loss = 0.01947972\n",
      "Iteration 168, loss = 0.01987473\n",
      "Iteration 169, loss = 0.02231465\n",
      "Iteration 170, loss = 0.02039600\n",
      "Iteration 171, loss = 0.02087073\n",
      "Training loss did not improve more than tol=0.000100 for 10 consecutive epochs. Stopping.\n"
     ]
    },
    {
     "data": {
      "text/plain": [
       "array(['U', 'N', 'V', ..., 'T', 'S', 'A'], dtype='<U1')"
      ]
     },
     "execution_count": 11,
     "metadata": {},
     "output_type": "execute_result"
    }
   ],
   "source": [
    "start = time.time()\n",
    "\n",
    "# Treinamento\n",
    "mlpc = MLPClassifier(hidden_layer_sizes=(2000,), # Número de neurônios na camada oculta\n",
    "                     #max_iter=3, # Número máximo de iterações\n",
    "                     alpha=1e-5, # Termo de regularização\n",
    "                    solver='adam', # Otimizador baseado em gradiente estocástico proposto por Kingma, Diederik e Jimmy Ba\n",
    "                     verbose=1, # Se deve imprimir mensagens de progresso.\n",
    "                     tol=1e-4, # Ponto de convergência\n",
    "                     random_state=0, # Gerador de números aleatórios\n",
    "                    learning_rate_init=.001) # Taxa de aprendizado constante dada por\n",
    "\n",
    "\n",
    "\n",
    "mlpc.fit(features_train, letter_train).predict(features_test)\n"
   ]
  },
  {
   "cell_type": "markdown",
   "metadata": {},
   "source": [
    "## Duração do treino"
   ]
  },
  {
   "cell_type": "code",
   "execution_count": 12,
   "metadata": {},
   "outputs": [
    {
     "name": "stdout",
     "output_type": "stream",
     "text": [
      "Tempo total de treino298.01090121269226 \n"
     ]
    }
   ],
   "source": [
    "end = time.time()\n",
    "print (\"Tempo total de treino{} \".format(end - start))"
   ]
  },
  {
   "cell_type": "markdown",
   "metadata": {},
   "source": [
    "## Acurácia"
   ]
  },
  {
   "cell_type": "code",
   "execution_count": 13,
   "metadata": {},
   "outputs": [
    {
     "name": "stdout",
     "output_type": "stream",
     "text": [
      "0.96525\n"
     ]
    }
   ],
   "source": [
    "accuracy = mlpc.score(features_test, letter_test)\n",
    "print(float(accuracy))"
   ]
  },
  {
   "cell_type": "markdown",
   "metadata": {},
   "source": [
    "## Relatório com precisão, recall e f1-score"
   ]
  },
  {
   "cell_type": "code",
   "execution_count": 14,
   "metadata": {},
   "outputs": [
    {
     "name": "stdout",
     "output_type": "stream",
     "text": [
      "              precision    recall  f1-score   support\n",
      "\n",
      "           A       1.00      0.97      0.99       156\n",
      "           B       0.92      0.99      0.95       136\n",
      "           C       0.97      0.99      0.98       142\n",
      "           D       0.99      0.92      0.95       167\n",
      "           E       0.99      0.93      0.96       152\n",
      "           F       0.96      0.96      0.96       153\n",
      "           G       0.97      0.96      0.97       164\n",
      "           H       0.82      0.95      0.88       151\n",
      "           I       0.98      0.97      0.97       165\n",
      "           J       0.95      0.96      0.96       148\n",
      "           K       0.93      0.97      0.95       146\n",
      "           L       0.97      0.97      0.97       157\n",
      "           M       0.98      0.99      0.99       144\n",
      "           N       0.96      0.97      0.97       166\n",
      "           O       0.99      0.92      0.96       139\n",
      "           P       0.94      0.97      0.95       168\n",
      "           Q       1.00      0.97      0.98       168\n",
      "           R       0.95      0.93      0.94       161\n",
      "           S       0.99      0.96      0.97       161\n",
      "           T       0.97      0.98      0.97       151\n",
      "           U       1.00      1.00      1.00       168\n",
      "           V       0.98      0.96      0.97       136\n",
      "           W       0.98      0.99      0.98       139\n",
      "           X       0.99      0.97      0.98       159\n",
      "           Y       0.97      0.96      0.96       145\n",
      "           Z       0.99      0.98      0.99       158\n",
      "\n",
      "   micro avg       0.97      0.97      0.97      4000\n",
      "   macro avg       0.97      0.97      0.97      4000\n",
      "weighted avg       0.97      0.97      0.97      4000\n",
      "\n"
     ]
    }
   ],
   "source": [
    "predicted = mlpc.predict(features_test)\n",
    "print((metrics.classification_report(letter_test, predicted)))"
   ]
  },
  {
   "cell_type": "markdown",
   "metadata": {},
   "source": [
    "## Matriz de confusão"
   ]
  },
  {
   "cell_type": "code",
   "execution_count": 15,
   "metadata": {},
   "outputs": [
    {
     "name": "stdout",
     "output_type": "stream",
     "text": [
      "[[152   1   0   0   0   0   0   1   0   0   0   0   0   0   0   0   0   0\n",
      "    0   1   0   0   0   0   1   0]\n",
      " [  0 134   0   0   0   0   0   1   0   0   0   0   0   0   0   0   0   1\n",
      "    0   0   0   0   0   0   0   0]\n",
      " [  0   0 140   0   0   0   0   0   0   0   0   0   0   0   0   1   0   0\n",
      "    0   1   0   0   0   0   0   0]\n",
      " [  0   3   0 154   0   0   0   9   0   0   0   0   1   0   0   0   0   0\n",
      "    0   0   0   0   0   0   0   0]\n",
      " [  0   0   4   0 142   0   3   0   0   0   1   1   0   0   0   0   0   1\n",
      "    0   0   0   0   0   0   0   0]\n",
      " [  0   0   0   0   0 147   0   1   0   0   0   0   0   0   0   4   0   0\n",
      "    0   0   0   0   0   1   0   0]\n",
      " [  0   0   0   0   0   0 158   0   0   0   1   0   1   0   0   2   0   1\n",
      "    0   0   0   0   1   0   0   0]\n",
      " [  0   1   0   0   0   0   1 143   0   0   1   0   0   3   0   1   0   1\n",
      "    0   0   0   0   0   0   0   0]\n",
      " [  0   0   0   0   0   1   0   0 160   2   0   0   0   1   0   0   0   0\n",
      "    1   0   0   0   0   0   0   0]\n",
      " [  0   0   0   0   0   1   0   1   4 142   0   0   0   0   0   0   0   0\n",
      "    0   0   0   0   0   0   0   0]\n",
      " [  0   0   0   0   0   0   0   2   0   0 142   0   0   0   0   0   0   2\n",
      "    0   0   0   0   0   0   0   0]\n",
      " [  0   1   0   0   0   0   0   0   0   1   0 153   0   0   0   0   0   1\n",
      "    1   0   0   0   0   0   0   0]\n",
      " [  0   0   0   0   0   0   0   0   0   0   0   0 143   0   0   0   0   0\n",
      "    0   0   0   1   0   0   0   0]\n",
      " [  0   0   0   0   0   0   0   2   0   1   0   0   0 161   0   0   0   1\n",
      "    0   0   0   0   0   0   1   0]\n",
      " [  0   1   0   2   0   0   0   4   0   0   0   0   1   1 128   0   0   0\n",
      "    0   0   0   1   1   0   0   0]\n",
      " [  0   1   0   0   0   2   0   2   0   0   0   0   0   0   0 163   0   0\n",
      "    0   0   0   0   0   0   0   0]\n",
      " [  0   0   0   0   0   0   1   3   0   0   0   0   0   0   1   0 163   0\n",
      "    0   0   0   0   0   0   0   0]\n",
      " [  0   1   1   0   0   0   0   5   0   0   4   0   0   0   0   0   0 150\n",
      "    0   0   0   0   0   0   0   0]\n",
      " [  0   1   0   0   2   1   0   0   0   1   0   1   0   0   0   0   0   0\n",
      "  154   0   0   0   0   0   0   1]\n",
      " [  0   0   0   0   0   0   0   0   0   0   0   1   0   0   0   1   0   0\n",
      "    0 148   0   0   0   0   1   0]\n",
      " [  0   0   0   0   0   0   0   0   0   0   0   0   0   0   0   0   0   0\n",
      "    0   0 168   0   0   0   0   0]\n",
      " [  0   1   0   0   0   0   0   1   0   0   0   0   0   0   0   0   0   0\n",
      "    0   1   0 130   1   0   2   0]\n",
      " [  0   0   0   0   0   0   0   0   0   0   1   0   0   1   0   0   0   0\n",
      "    0   0   0   0 137   0   0   0]\n",
      " [  0   1   0   0   0   0   0   0   0   0   3   0   0   0   0   0   0   0\n",
      "    0   0   0   0   0 155   0   0]\n",
      " [  0   0   0   0   0   0   0   0   0   1   0   0   0   0   0   2   0   0\n",
      "    0   2   0   0   0   1 139   0]\n",
      " [  0   0   0   0   0   1   0   0   0   1   0   1   0   0   0   0   0   0\n",
      "    0   0   0   0   0   0   0 155]]\n"
     ]
    }
   ],
   "source": [
    "# Gera matriz de confusão\n",
    "print(metrics.confusion_matrix(letter_test, predicted))"
   ]
  },
  {
   "cell_type": "code",
   "execution_count": 16,
   "metadata": {},
   "outputs": [],
   "source": [
    "def confusion_matrix_plot(y_test, y_predict, letters):\n",
    "\n",
    "    cnf_matrix = confusion_matrix(y_test, y_predict)        \n",
    "    df_cm = pd.DataFrame(cnf_matrix, letters,\n",
    "                      letters)\n",
    "    sn.set(font_scale=1.0)#for label size\n",
    "    sn.heatmap(df_cm, annot=True,annot_kws={\"size\": 10})# font size\n",
    "    plt.show()"
   ]
  },
  {
   "cell_type": "code",
   "execution_count": 17,
   "metadata": {},
   "outputs": [
    {
     "data": {
      "image/png": "[encoded data removed]",
      "text/plain": [
       "<Figure size 432x288 with 2 Axes>"
      ]
     },
     "metadata": {},
     "output_type": "display_data"
    }
   ],
   "source": [
    "confusion_matrix_plot(letter_test, predicted, alfabeto)"
   ]
  },
  {
   "cell_type": "code",
   "execution_count": null,
   "metadata": {},
   "outputs": [],
   "source": []
  },
  {
   "cell_type": "code",
   "execution_count": null,
   "metadata": {},
   "outputs": [],
   "source": []
  },
  {
   "cell_type": "code",
   "execution_count": null,
   "metadata": {},
   "outputs": [],
   "source": []
  }
 ],
 "metadata": {
  "kernelspec": {
   "display_name": "Python 3",
   "language": "python",
   "name": "python3"
  },
  "language_info": {
   "codemirror_mode": {
    "name": "ipython",
    "version": 3
   },
   "file_extension": ".py",
   "mimetype": "text/x-python",
   "name": "python",
   "nbconvert_exporter": "python",
   "pygments_lexer": "ipython3",
   "version": "3.5.2"
  }
 },
 "nbformat": 4,
 "nbformat_minor": 2
}
