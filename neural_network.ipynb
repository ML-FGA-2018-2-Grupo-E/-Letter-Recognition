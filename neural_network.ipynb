{
 "cells": [
  {
   "cell_type": "markdown",
   "metadata": {},
   "source": [
    "# Neural Network\n",
    "\n",
    "Uma rede neural consiste em unidades (neurônios), organizadas em camadas, que convertem um vetor de entrada em alguma saída. Cada unidade recebe uma entrada, aplica uma função (geralmente não linear) a ela e depois passa a saída para a próxima camada. \n",
    "A saída da unidade alimenta todas as unidades na próxima camada, mas não há feedback para a camada anterior.  \n",
    "\n",
    "\n",
    "Nesse exemplo foi usado o MLPClassifier que treina iterativamente uma vez que, a cada passo de tempo, as derivadas \n",
    "parciais da função de perda em relação aos parâmetros do modelo são calculadas para atualizar os parâmetros.  \n",
    "\n",
    "**Hiperparâmetros:**\n",
    "\n",
    "- hidden_layer_sizes - Número de neurônios na camada oculta\n",
    "- max_iter - Número máximo de iterações\n",
    "- alpha - Termo de regularização\n",
    "- solver - Otimizador baseado em gradiente estocástico proposto por Kingma, Diederik e Jimmy Ba\n",
    "- verbose - Se deve imprimir mensagens de progresso.\n",
    "- tol - Ponto de convergência\n",
    "- random_state - Gerador de números aleatórios\n",
    "- learning_rate_init - Taxa de aprendizado constante dada por.\n"
   ]
  },
  {
   "cell_type": "markdown",
   "metadata": {},
   "source": [
    "## Biblioteca e dados"
   ]
  },
  {
   "cell_type": "code",
   "execution_count": 160,
   "metadata": {},
   "outputs": [],
   "source": [
    "from sklearn.neural_network import MLPClassifier\n",
    "from load_and_prepare_data import load_and_prepare_data\n",
    "from sklearn.preprocessing import LabelEncoder\n",
    "from sklearn.metrics import confusion_matrix\n",
    "from sklearn import metrics\n",
    "from sklearn.model_selection import train_test_split\n",
    "import matplotlib.pyplot as plt\n",
    "import pandas as pd\n",
    "import numpy as np\n",
    "import seaborn as sn\n",
    "\n",
    "\n",
    "import time\n",
    "\n",
    "\n",
    "# Recebe o arquivo de dataset, nomeia as labels e mostra o dataframe\n",
    "data = '~/Letter-Recognition/data_set/letter-recognition.data'\n",
    "columns = ['lettr','x-box','y-box','width','high','onpix','x-bar','y-bar','x2bar','y2bar','xybar','x2ybr','xy2br','x-ege','xegvy','y-ege','yegvx']\n",
    "df = pd.read_csv(data, names = columns)\n",
    "df\n",
    "\n",
    "# Retirando as classes para selecionar apenas as features\n",
    "features = np.array(df.drop('lettr', 1))\n",
    "\n",
    "# Selecionar apenas as classes\n",
    "letter = np.array(df.lettr)\n",
    "\n",
    "order_letter = np.sort(letter)\n",
    "alfabeto = sorted(set(order_letter))\n",
    "\n",
    "# Divide os dados em conjunto de treinamento e em conjunto de teste\n",
    "features_train, features_test, letter_train, letter_test = train_test_split(features, letter, random_state=0)\n",
    "\n",
    "\n"
   ]
  },
  {
   "cell_type": "markdown",
   "metadata": {},
   "source": [
    "## Treinamento"
   ]
  },
  {
   "cell_type": "code",
   "execution_count": 145,
   "metadata": {},
   "outputs": [
    {
     "name": "stdout",
     "output_type": "stream",
     "text": [
      "Iteration 1, loss = 1.73659636\n",
      "Iteration 2, loss = 1.06462062\n",
      "Iteration 3, loss = 0.89243143\n",
      "Iteration 4, loss = 0.79916622\n",
      "Iteration 5, loss = 0.70721669\n",
      "Iteration 6, loss = 0.65472126\n",
      "Iteration 7, loss = 0.59782850\n",
      "Iteration 8, loss = 0.55444758\n",
      "Iteration 9, loss = 0.50924982\n",
      "Iteration 10, loss = 0.47166693\n",
      "Iteration 11, loss = 0.43809805\n",
      "Iteration 12, loss = 0.41448718\n",
      "Iteration 13, loss = 0.38770092\n",
      "Iteration 14, loss = 0.37502350\n",
      "Iteration 15, loss = 0.34295115\n",
      "Iteration 16, loss = 0.32725214\n",
      "Iteration 17, loss = 0.31582972\n",
      "Iteration 18, loss = 0.29586924\n",
      "Iteration 19, loss = 0.28016319\n",
      "Iteration 20, loss = 0.26839395\n",
      "Iteration 21, loss = 0.26850794\n",
      "Iteration 22, loss = 0.25357356\n",
      "Iteration 23, loss = 0.23822567\n",
      "Iteration 24, loss = 0.23250584\n",
      "Iteration 25, loss = 0.22803903\n",
      "Iteration 26, loss = 0.22193479\n",
      "Iteration 27, loss = 0.20754617\n",
      "Iteration 28, loss = 0.20851510\n",
      "Iteration 29, loss = 0.19882511\n",
      "Iteration 30, loss = 0.19142058\n",
      "Iteration 31, loss = 0.18173470\n",
      "Iteration 32, loss = 0.17746882\n",
      "Iteration 33, loss = 0.17211432\n",
      "Iteration 34, loss = 0.16966577\n",
      "Iteration 35, loss = 0.16408392\n",
      "Iteration 36, loss = 0.16478654\n",
      "Iteration 37, loss = 0.15780271\n",
      "Iteration 38, loss = 0.15001952\n",
      "Iteration 39, loss = 0.15300699\n",
      "Iteration 40, loss = 0.14572888\n",
      "Iteration 41, loss = 0.13546118\n",
      "Iteration 42, loss = 0.13707014\n",
      "Iteration 43, loss = 0.13774005\n",
      "Iteration 44, loss = 0.13718157\n",
      "Iteration 45, loss = 0.13627736\n",
      "Iteration 46, loss = 0.13218983\n",
      "Iteration 47, loss = 0.12726949\n",
      "Iteration 48, loss = 0.11767850\n",
      "Iteration 49, loss = 0.11863475\n",
      "Iteration 50, loss = 0.11849585\n",
      "Iteration 51, loss = 0.11642873\n",
      "Iteration 52, loss = 0.10845851\n",
      "Iteration 53, loss = 0.11097997\n",
      "Iteration 54, loss = 0.10937182\n",
      "Iteration 55, loss = 0.10800985\n",
      "Iteration 56, loss = 0.09829169\n",
      "Iteration 57, loss = 0.09795048\n",
      "Iteration 58, loss = 0.10165960\n",
      "Iteration 59, loss = 0.09777202\n",
      "Iteration 60, loss = 0.09258832\n",
      "Iteration 61, loss = 0.09800922\n",
      "Iteration 62, loss = 0.09713751\n",
      "Iteration 63, loss = 0.09095469\n",
      "Iteration 64, loss = 0.09372661\n",
      "Iteration 65, loss = 0.08501803\n",
      "Iteration 66, loss = 0.08105402\n",
      "Iteration 67, loss = 0.08158552\n",
      "Iteration 68, loss = 0.08278777\n",
      "Iteration 69, loss = 0.08061674\n",
      "Iteration 70, loss = 0.07440936\n",
      "Iteration 71, loss = 0.07917014\n",
      "Iteration 72, loss = 0.07448094\n",
      "Iteration 73, loss = 0.07512955\n",
      "Iteration 74, loss = 0.07042428\n",
      "Iteration 75, loss = 0.06980720\n",
      "Iteration 76, loss = 0.07070477\n",
      "Iteration 77, loss = 0.06983851\n",
      "Iteration 78, loss = 0.07259491\n",
      "Iteration 79, loss = 0.06800086\n",
      "Iteration 80, loss = 0.06573721\n",
      "Iteration 81, loss = 0.06275969\n",
      "Iteration 82, loss = 0.06950059\n",
      "Iteration 83, loss = 0.06799925\n",
      "Iteration 84, loss = 0.05962634\n",
      "Iteration 85, loss = 0.06447232\n",
      "Iteration 86, loss = 0.05881082\n",
      "Iteration 87, loss = 0.05638254\n",
      "Iteration 88, loss = 0.05697836\n",
      "Iteration 89, loss = 0.06265745\n",
      "Iteration 90, loss = 0.06388515\n",
      "Iteration 91, loss = 0.05887965\n",
      "Iteration 92, loss = 0.06070173\n",
      "Iteration 93, loss = 0.06461617\n",
      "Iteration 94, loss = 0.04727547\n",
      "Iteration 95, loss = 0.04873872\n",
      "Iteration 96, loss = 0.04851201\n",
      "Iteration 97, loss = 0.05422510\n",
      "Iteration 98, loss = 0.05363573\n",
      "Iteration 99, loss = 0.04662910\n",
      "Iteration 100, loss = 0.04429750\n",
      "Iteration 101, loss = 0.04950900\n",
      "Iteration 102, loss = 0.05004395\n",
      "Iteration 103, loss = 0.04801849\n",
      "Iteration 104, loss = 0.04413619\n",
      "Iteration 105, loss = 0.03973930\n",
      "Iteration 106, loss = 0.03939100\n",
      "Iteration 107, loss = 0.04373379\n",
      "Iteration 108, loss = 0.04609447\n",
      "Iteration 109, loss = 0.03918515\n",
      "Iteration 110, loss = 0.03806342\n",
      "Iteration 111, loss = 0.03962865\n",
      "Iteration 112, loss = 0.04057067\n",
      "Iteration 113, loss = 0.03609403\n",
      "Iteration 114, loss = 0.03642405\n",
      "Iteration 115, loss = 0.03799366\n",
      "Iteration 116, loss = 0.04010018\n",
      "Iteration 117, loss = 0.04828335\n",
      "Iteration 118, loss = 0.03897721\n",
      "Iteration 119, loss = 0.03388485\n",
      "Iteration 120, loss = 0.03706237\n",
      "Iteration 121, loss = 0.03867852\n",
      "Iteration 122, loss = 0.03571056\n",
      "Iteration 123, loss = 0.03743698\n",
      "Iteration 124, loss = 0.03170081\n",
      "Iteration 125, loss = 0.03682980\n",
      "Iteration 126, loss = 0.03508333\n",
      "Iteration 127, loss = 0.04374045\n",
      "Iteration 128, loss = 0.03613800\n",
      "Iteration 129, loss = 0.03197593\n",
      "Iteration 130, loss = 0.02984351\n",
      "Iteration 131, loss = 0.03201308\n",
      "Iteration 132, loss = 0.02909611\n",
      "Iteration 133, loss = 0.03334487\n",
      "Iteration 134, loss = 0.03758776\n",
      "Iteration 135, loss = 0.03079904\n",
      "Iteration 136, loss = 0.03512540\n",
      "Iteration 137, loss = 0.02831058\n",
      "Iteration 138, loss = 0.02945795\n",
      "Iteration 139, loss = 0.02652221\n",
      "Iteration 140, loss = 0.02856399\n",
      "Iteration 141, loss = 0.02589244\n",
      "Iteration 142, loss = 0.03110922\n",
      "Iteration 143, loss = 0.02442929\n",
      "Iteration 144, loss = 0.02675375\n",
      "Iteration 145, loss = 0.02605057\n",
      "Iteration 146, loss = 0.02436919\n",
      "Iteration 147, loss = 0.02625903\n",
      "Iteration 148, loss = 0.02405465\n",
      "Iteration 149, loss = 0.02578248\n",
      "Iteration 150, loss = 0.02474912\n",
      "Iteration 151, loss = 0.02706507\n",
      "Iteration 152, loss = 0.02882314\n",
      "Iteration 153, loss = 0.02799151\n",
      "Iteration 154, loss = 0.02250820\n",
      "Iteration 155, loss = 0.02092792\n",
      "Iteration 156, loss = 0.01714601\n",
      "Iteration 157, loss = 0.01982104\n",
      "Iteration 158, loss = 0.03252956\n",
      "Iteration 159, loss = 0.04029606\n",
      "Iteration 160, loss = 0.02797453\n",
      "Iteration 161, loss = 0.02053244\n",
      "Iteration 162, loss = 0.01692206\n",
      "Iteration 163, loss = 0.01790925\n",
      "Iteration 164, loss = 0.02053108\n",
      "Iteration 165, loss = 0.02543022\n",
      "Iteration 166, loss = 0.01941248\n",
      "Iteration 167, loss = 0.01638062\n",
      "Iteration 168, loss = 0.01429183\n",
      "Iteration 169, loss = 0.01912704\n",
      "Iteration 170, loss = 0.03239833\n",
      "Iteration 171, loss = 0.03060439\n",
      "Iteration 172, loss = 0.01697267\n",
      "Iteration 173, loss = 0.02777633\n",
      "Iteration 174, loss = 0.03606358\n",
      "Iteration 175, loss = 0.02497080\n",
      "Iteration 176, loss = 0.02580810\n",
      "Iteration 177, loss = 0.02202203\n",
      "Iteration 178, loss = 0.01849087\n",
      "Iteration 179, loss = 0.01401749\n",
      "Iteration 180, loss = 0.01408015\n",
      "Iteration 181, loss = 0.01350447\n",
      "Iteration 182, loss = 0.01539918\n",
      "Iteration 183, loss = 0.01539793\n",
      "Iteration 184, loss = 0.01701304\n",
      "Iteration 185, loss = 0.01580178\n",
      "Iteration 186, loss = 0.02060702\n",
      "Iteration 187, loss = 0.02695185\n",
      "Iteration 188, loss = 0.02126518\n",
      "Iteration 189, loss = 0.04071200\n",
      "Iteration 190, loss = 0.03926271\n",
      "Iteration 191, loss = 0.02258909\n",
      "Iteration 192, loss = 0.01554542\n",
      "Training loss did not improve more than tol=0.000100 for 10 consecutive epochs. Stopping.\n"
     ]
    },
    {
     "data": {
      "text/plain": [
       "array(['Y', 'B', 'K', ..., 'V', 'U', 'U'], dtype='<U1')"
      ]
     },
     "execution_count": 145,
     "metadata": {},
     "output_type": "execute_result"
    }
   ],
   "source": [
    "start = time.time()\n",
    "\n",
    "# Treinamento\n",
    "mlpc = MLPClassifier(hidden_layer_sizes=(2000,), # Número de neurônios na camada oculta\n",
    "                     #max_iter=3, # Número máximo de iterações\n",
    "                     alpha=1e-5, # Termo de regularização\n",
    "                    solver='adam', # Otimizador baseado em gradiente estocástico proposto por Kingma, Diederik e Jimmy Ba\n",
    "                     verbose=1, # Se deve imprimir mensagens de progresso.\n",
    "                     tol=1e-4, # Ponto de convergência\n",
    "                     random_state=0, # Gerador de números aleatórios\n",
    "                    learning_rate_init=.001) # Taxa de aprendizado constante dada por\n",
    "\n",
    "\n",
    "\n",
    "mlpc.fit(features_train, letter_train).predict(features_test)\n"
   ]
  },
  {
   "cell_type": "markdown",
   "metadata": {},
   "source": [
    "## Duração do treino"
   ]
  },
  {
   "cell_type": "code",
   "execution_count": 146,
   "metadata": {},
   "outputs": [
    {
     "name": "stdout",
     "output_type": "stream",
     "text": [
      "Tempo total de treino349.48409485816956 \n"
     ]
    }
   ],
   "source": [
    "end = time.time()\n",
    "print (\"Tempo total de treino{} \".format(end - start))"
   ]
  },
  {
   "cell_type": "markdown",
   "metadata": {},
   "source": [
    "## Acurácia"
   ]
  },
  {
   "cell_type": "code",
   "execution_count": 147,
   "metadata": {},
   "outputs": [
    {
     "name": "stdout",
     "output_type": "stream",
     "text": [
      "0.9722\n"
     ]
    }
   ],
   "source": [
    "accuracy = mlpc.score(features_test, letter_test)\n",
    "print(float(accuracy))"
   ]
  },
  {
   "cell_type": "markdown",
   "metadata": {},
   "source": [
    "## Relatório com precisão, recall e f1-score"
   ]
  },
  {
   "cell_type": "code",
   "execution_count": 148,
   "metadata": {},
   "outputs": [
    {
     "name": "stdout",
     "output_type": "stream",
     "text": [
      "              precision    recall  f1-score   support\n",
      "\n",
      "           A       0.99      0.98      0.99       180\n",
      "           B       0.93      0.96      0.95       206\n",
      "           C       0.98      0.98      0.98       196\n",
      "           D       0.97      0.97      0.97       212\n",
      "           E       0.97      0.94      0.95       186\n",
      "           F       0.94      0.97      0.96       201\n",
      "           G       0.96      0.96      0.96       221\n",
      "           H       0.93      0.96      0.94       156\n",
      "           I       0.98      0.97      0.97       181\n",
      "           J       0.97      0.98      0.97       196\n",
      "           K       0.94      0.95      0.95       174\n",
      "           L       0.99      0.96      0.98       189\n",
      "           M       0.99      0.99      0.99       210\n",
      "           N       0.98      0.98      0.98       171\n",
      "           O       0.97      0.97      0.97       191\n",
      "           P       0.99      0.94      0.97       208\n",
      "           Q       0.98      0.99      0.98       175\n",
      "           R       0.95      0.96      0.96       193\n",
      "           S       0.98      1.00      0.99       193\n",
      "           T       0.99      0.99      0.99       209\n",
      "           U       0.98      0.98      0.98       201\n",
      "           V       0.97      0.95      0.96       200\n",
      "           W       0.98      0.99      0.99       182\n",
      "           X       0.98      0.99      0.98       202\n",
      "           Y       0.98      0.98      0.98       188\n",
      "           Z       1.00      0.98      0.99       179\n",
      "\n",
      "   micro avg       0.97      0.97      0.97      5000\n",
      "   macro avg       0.97      0.97      0.97      5000\n",
      "weighted avg       0.97      0.97      0.97      5000\n",
      "\n"
     ]
    }
   ],
   "source": [
    "predicted = mlpc.predict(features_test)\n",
    "print((metrics.classification_report(letter_test, predicted)))"
   ]
  },
  {
   "cell_type": "markdown",
   "metadata": {},
   "source": [
    "## Matriz de confusão"
   ]
  },
  {
   "cell_type": "code",
   "execution_count": 152,
   "metadata": {},
   "outputs": [
    {
     "name": "stdout",
     "output_type": "stream",
     "text": [
      "[[176   1   0   1   0   0   0   0   0   1   0   0   0   0   0   0   0   1\n",
      "    0   0   0   0   0   0   0   0]\n",
      " [  0 198   0   1   0   0   1   0   0   0   0   0   0   0   0   0   0   2\n",
      "    1   0   0   3   0   0   0   0]\n",
      " [  0   0 193   0   0   0   1   0   0   0   0   0   0   1   0   0   0   0\n",
      "    0   0   1   0   0   0   0   0]\n",
      " [  0   2   0 206   0   2   0   0   0   0   0   0   0   1   1   0   0   0\n",
      "    0   0   0   0   0   0   0   0]\n",
      " [  0   1   0   1 175   0   5   0   0   0   2   1   0   0   0   0   1   0\n",
      "    0   0   0   0   0   0   0   0]\n",
      " [  0   1   0   1   0 195   0   0   0   0   0   0   0   0   1   1   0   0\n",
      "    0   0   0   1   1   0   0   0]\n",
      " [  0   2   0   0   2   0 212   0   0   0   0   0   0   0   1   0   1   1\n",
      "    0   0   1   1   0   0   0   0]\n",
      " [  0   1   0   1   0   0   0 149   0   0   2   0   0   0   0   1   0   1\n",
      "    0   0   1   0   0   0   0   0]\n",
      " [  0   0   0   0   0   2   0   0 175   4   0   0   0   0   0   0   0   0\n",
      "    0   0   0   0   0   0   0   0]\n",
      " [  0   0   0   0   0   1   0   1   2 192   0   0   0   0   0   0   0   0\n",
      "    0   0   0   0   0   0   0   0]\n",
      " [  0   0   0   0   0   0   0   3   0   0 166   0   0   1   0   0   0   3\n",
      "    0   0   0   0   0   1   0   0]\n",
      " [  0   0   1   0   1   0   1   1   0   0   0 182   0   0   0   0   0   1\n",
      "    0   0   0   0   0   2   0   0]\n",
      " [  0   0   0   0   0   0   0   0   0   0   0   0 208   0   1   0   0   0\n",
      "    0   0   0   0   1   0   0   0]\n",
      " [  0   0   0   0   0   0   0   1   0   0   0   0   1 168   1   0   0   0\n",
      "    0   0   0   0   0   0   0   0]\n",
      " [  0   0   1   0   0   0   0   1   0   0   1   0   0   0 185   0   1   0\n",
      "    0   1   1   0   0   0   0   0]\n",
      " [  0   0   1   0   1   6   0   1   1   0   0   0   0   0   0 196   0   0\n",
      "    0   0   0   0   0   0   2   0]\n",
      " [  0   0   0   0   0   0   1   0   0   0   0   0   0   0   1   0 173   0\n",
      "    0   0   0   0   0   0   0   0]\n",
      " [  0   3   0   0   2   0   0   1   0   0   1   0   0   1   0   0   0 185\n",
      "    0   0   0   0   0   0   0   0]\n",
      " [  0   0   0   0   0   0   0   0   0   0   0   0   0   0   0   0   0   0\n",
      "  193   0   0   0   0   0   0   0]\n",
      " [  0   0   0   0   0   1   0   1   0   0   1   0   0   0   0   0   0   0\n",
      "    0 206   0   0   0   0   0   0]\n",
      " [  0   0   0   0   0   0   0   1   0   0   2   0   1   0   0   0   0   0\n",
      "    0   0 197   0   0   0   0   0]\n",
      " [  0   4   0   1   0   0   0   0   0   0   0   0   0   0   0   0   0   0\n",
      "    0   0   0 191   2   0   2   0]\n",
      " [  0   0   0   0   0   0   0   0   0   0   0   0   1   0   0   0   0   0\n",
      "    0   0   0   0 181   0   0   0]\n",
      " [  1   0   0   1   0   0   0   0   0   0   1   0   0   0   0   0   0   0\n",
      "    0   0   0   0   0 199   0   0]\n",
      " [  0   0   0   0   0   0   0   1   0   0   0   0   0   0   0   0   0   0\n",
      "    1   1   0   0   0   1 184   0]\n",
      " [  0   0   0   0   0   0   0   0   0   1   0   0   0   0   0   0   1   0\n",
      "    1   0   0   0   0   0   0 176]]\n"
     ]
    }
   ],
   "source": [
    "# Gera matriz de confusão\n",
    "print(metrics.confusion_matrix(letter_test, predicted))"
   ]
  },
  {
   "cell_type": "code",
   "execution_count": 164,
   "metadata": {},
   "outputs": [],
   "source": [
    "def confusion_matrix_plot(y_test, y_predict, letters):\n",
    "\n",
    "    cnf_matrix = confusion_matrix(y_test, y_predict)        \n",
    "    df_cm = pd.DataFrame(cnf_matrix, letters,\n",
    "                      letters)\n",
    "    sn.set(font_scale=1.0)#for label size\n",
    "    sn.heatmap(df_cm, annot=True,annot_kws={\"size\": 10})# font size\n",
    "    plt.show()"
   ]
  },
  {
   "cell_type": "code",
   "execution_count": 165,
   "metadata": {},
   "outputs": [
    {
     "data": {
      "image/png": "[encoded data removed]",
      "text/plain": [
       "<Figure size 432x288 with 2 Axes>"
      ]
     },
     "metadata": {},
     "output_type": "display_data"
    }
   ],
   "source": [
    "confusion_matrix_plot(letter_test, predicted, alfabeto)"
   ]
  },
  {
   "cell_type": "code",
   "execution_count": null,
   "metadata": {},
   "outputs": [],
   "source": []
  },
  {
   "cell_type": "code",
   "execution_count": null,
   "metadata": {},
   "outputs": [],
   "source": []
  },
  {
   "cell_type": "code",
   "execution_count": null,
   "metadata": {},
   "outputs": [],
   "source": []
  }
 ],
 "metadata": {
  "kernelspec": {
   "display_name": "Python 3",
   "language": "python",
   "name": "python3"
  },
  "language_info": {
   "codemirror_mode": {
    "name": "ipython",
    "version": 3
   },
   "file_extension": ".py",
   "mimetype": "text/x-python",
   "name": "python",
   "nbconvert_exporter": "python",
   "pygments_lexer": "ipython3",
   "version": "3.5.2"
  }
 },
 "nbformat": 4,
 "nbformat_minor": 2
}
