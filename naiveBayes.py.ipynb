{
 "cells": [
  {
   "cell_type": "markdown",
   "metadata": {},
   "source": [
    "**Técnica**: Naive Bayes \n",
    "\n",
    "**Conceito**: Os classificadores Naive Bayes são classificadores lineares que são conhecidos por serem simples, mas muito eficientes. O modelo probabilístico de classificadores ingênuos de Bayes é baseado no teorema de Bayes, e o adjetivo ingênuo vem da suposição de que os recursos em um conjunto de dados são mutuamente independentes. \n",
    "\n",
    "Na prática, a suposição de independência é freqüentemente violada, mas os classificadores ingênuos de Bayes ainda tendem a ter um desempenho muito bom sob essa hipótese irrealista. Especialmente para amostras pequenas, classificadores ingênuos de Bayes podem superar as alternativas mais poderosas.\n"
    ![naiveBayes](https://imgur.com/Og71I0Y)
   ]
  },
  {
   "cell_type": "code",
   "execution_count": 27,
   "metadata": {
    "scrolled": true
   },
   "outputs": [
    {
     "name": "stdout",
     "output_type": "stream",
     "text": [
      "Acurácia (16000 pontos usados para treinar): 0.62525\n"
     ]
    }
   ],
   "source": [
    "import numpy as np\n",
    "from sklearn.naive_bayes import GaussianNB\n",
    "import pandas as pd\n",
    "from sklearn import metrics\n",
    "import matplotlib.pyplot as plt\n",
    "from sklearn.preprocessing import LabelEncoder, OneHotEncoder\n",
    "\n",
    "TRAINING_POINTS_NUMBER = 16000\n",
    "\n",
    "data = '/home/gustavo/Downloads/letter-recognition.data'\n",
    "\n",
    "colums = ['lettr', 'x-box', 'y-box', 'width', 'high', 'onpix', 'x-bar', 'y-bar',\n",
    "    'x2bar', 'y2bar', 'xybar', 'x2ybr', 'xy2br', 'x-ege', 'xegvy', 'y-ege',\n",
    "    'yegvx']\n",
    "\n",
    "df = pd.read_csv(data, names=colums)\n",
    "    \n",
    "training_points = np.array(df[:TRAINING_POINTS_NUMBER].drop(['lettr'], 1))\n",
    "training_labels = np.array(df[:TRAINING_POINTS_NUMBER]['lettr'])\n",
    "\n",
    "\n",
    "clf = GaussianNB()\n",
    "clf.fit(training_points, training_labels)\n",
    "\n",
    "test_points = np.array(df[TRAINING_POINTS_NUMBER:].drop(['lettr'], 1))\n",
    "test_labels = np.array(df[TRAINING_POINTS_NUMBER:]['lettr'])\n",
    "\n",
    "accuracy = clf.score(test_points, test_labels)\n",
    "accuracy_list.append(accuracy)\n",
    "print(\"Acurácia ({} pontos usados para treinar): \".format(training_points_number) + str(accuracy))\n",
    "\n"
   ]
  },
  {
   "cell_type": "markdown",
   "metadata": {},
   "source": [
    "**Relatório de precisão, recall e F1-score**"
   ]
  },
  {
   "cell_type": "code",
   "execution_count": 28,
   "metadata": {
    "scrolled": true
   },
   "outputs": [
    {
     "name": "stdout",
     "output_type": "stream",
     "text": [
      "              precision    recall  f1-score   support\n",
      "\n",
      "           A       0.83      0.84      0.84       156\n",
      "           B       0.45      0.66      0.54       136\n",
      "           C       0.76      0.73      0.75       142\n",
      "           D       0.54      0.69      0.60       167\n",
      "           E       0.67      0.38      0.49       152\n",
      "           F       0.68      0.73      0.71       153\n",
      "           G       0.54      0.57      0.56       164\n",
      "           H       0.50      0.27      0.35       151\n",
      "           I       0.55      0.78      0.65       165\n",
      "           J       0.78      0.74      0.76       148\n",
      "           K       0.43      0.45      0.44       146\n",
      "           L       0.95      0.75      0.84       157\n",
      "           M       0.66      0.90      0.76       144\n",
      "           N       0.83      0.57      0.68       166\n",
      "           O       0.43      0.67      0.52       139\n",
      "           P       0.85      0.72      0.78       168\n",
      "           Q       0.62      0.55      0.59       168\n",
      "           R       0.56      0.65      0.61       161\n",
      "           S       0.31      0.28      0.29       161\n",
      "           T       0.72      0.69      0.70       151\n",
      "           U       0.88      0.68      0.77       168\n",
      "           V       0.61      0.77      0.68       136\n",
      "           W       0.65      0.77      0.70       139\n",
      "           X       0.45      0.50      0.47       159\n",
      "           Y       0.65      0.34      0.45       145\n",
      "           Z       0.76      0.59      0.66       158\n",
      "\n",
      "   micro avg       0.63      0.63      0.63      4000\n",
      "   macro avg       0.64      0.63      0.62      4000\n",
      "weighted avg       0.64      0.63      0.62      4000\n",
      "\n"
     ]
    }
   ],
   "source": [
    "expected = test_labels\n",
    "predicted = clf.predict(test_points)\n",
    "\n",
    "print(metrics.classification_report(test_labels, predicted))"
   ]
  },
  {
   "cell_type": "markdown",
   "metadata": {},
   "source": [
    "**Matriz de Confusão**"
   ]
  },
  {
   "cell_type": "code",
   "execution_count": 29,
   "metadata": {},
   "outputs": [
    {
     "name": "stdout",
     "output_type": "stream",
     "text": [
      "[[131   0   0   1   0   0   0   2   0   0   0   0   5   1   0   0   3   0\n",
      "    7   0   1   0   1   1   3   0]\n",
      " [  0  90   0   9   0   1   0   1  17   0   1   0   3   0   0   0   0  13\n",
      "    0   0   0   0   0   1   0   0]\n",
      " [  0   0 104   0   3   0   7   0   0   0  16   0   4   0   3   0   2   0\n",
      "    0   1   1   1   0   0   0   0]\n",
      " [  0  12   0 115   0   0   0   0  13   4   1   0   0   0  11   1   0   6\n",
      "    4   0   0   0   0   0   0   0]\n",
      " [  0   2   1   0  58   0  26   0  10   0   7   0   0   0   0   0   9   0\n",
      "    7   2   0   0   0  24   0   6]\n",
      " [  0   7   0   5   0 112   5   0   1   0   0   0   0   3   0   9   1   1\n",
      "    1   2   0   0   2   1   3   0]\n",
      " [  1   4  26   3   0   1  94   0   2   0   3   0   2   0   2   0  12   3\n",
      "    4   0   0   0   7   0   0   0]\n",
      " [  1   4   0  13   0   5   2  41   1   0  10   0   5   2  27   0   1  11\n",
      "    1   0   3   0   3  19   2   0]\n",
      " [  0   4   0   6   3   3   0   0 129   8   0   1   0   0   0   2   2   0\n",
      "    6   0   0   0   0   0   0   1]\n",
      " [  0   4   0   9   0   3   0   0   5 110   0   0   0   0   1   2   0   1\n",
      "   11   0   0   0   0   2   0   0]\n",
      " [  0   7   1   5  14   0   5   0   0   0  66   0   3   2   0   0   1  19\n",
      "    0   2   3   0   0  17   1   0]\n",
      " [  0   4   0   0   1   0   6   0   0   9   8 117   0   0   0   0   6   2\n",
      "    1   0   0   0   0   3   0   0]\n",
      " [  3   2   0   0   0   0   0   2   0   0   4   0 129   0   0   0   0   1\n",
      "    0   0   0   0   3   0   0   0]\n",
      " [  2   2   0   5   0   0   0  21   1   0   3   0   5  95   9   1   0   7\n",
      "    0   0   2   6   7   0   0   0]\n",
      " [  2   1   1   6   0   0   9   1   7   0   3   0   1   1  93   1   4   7\n",
      "    0   0   0   0   2   0   0   0]\n",
      " [  0   3   0   9   0  11   5   2   0   0   0   0   0   2   0 121   0   0\n",
      "    1   0   0   1   9   0   4   0]\n",
      " [  5   2   0   3   0   0   2   0   4   0   1   2   3   0  29   0  93   4\n",
      "   16   0   0   0   2   1   1   0]\n",
      " [  0  13   0  13   0   0   0   5   4   7   3   0   5   1   3   0   1 105\n",
      "    0   0   0   0   1   0   0   0]\n",
      " [ 11  24   1   1   4   4   3   0  13   1   2   1   0   0   0   0   7   2\n",
      "   45   5   1   1   0  18   1  16]\n",
      " [  0   0   0   1   1   9   6   0   0   0   7   0   0   0   0   0   0   2\n",
      "    3 104   0   4   0   5   8   1]\n",
      " [  0   0   3   2   0   0   2   5   0   0   8   0  15   4  10   0   2   0\n",
      "    0   0 114   0   2   1   0   0]\n",
      " [  0   4   0   0   0   2   1   0   0   0   0   0   2   1   0   3   0   0\n",
      "    1   0   0 105  15   0   2   0]\n",
      " [  0   2   0   0   0   0   0   2   0   0   0   0   9   2   3   0   0   0\n",
      "    0   0   0  14 107   0   0   0]\n",
      " [  0   9   0   4   1   0   0   0  12   0   9   0   0   0  25   1   0   0\n",
      "    5   4   3   0   0  80   1   5]\n",
      " [  0   0   0   3   0  10   0   0   0   0   0   0   3   0   0   1   4   0\n",
      "    7  22   2  39   4   0  50   0]\n",
      " [  1   0   0   1   1   3   0   0  16   2   2   2   0   0   0   0   1   2\n",
      "   25   3   0   0   0   5   1  93]]\n"
     ]
    }
   ],
   "source": [
    "print(metrics.confusion_matrix(expected, predicted))"
   ]
  },
  {
   "cell_type": "code",
   "execution_count": null,
   "metadata": {},
   "outputs": [],
   "source": []
  }
 ],
 "metadata": {
  "kernelspec": {
   "display_name": "Python 3",
   "language": "python",
   "name": "python3"
  },
  "language_info": {
   "codemirror_mode": {
    "name": "ipython",
    "version": 3
   },
   "file_extension": ".py",
   "mimetype": "text/x-python",
   "name": "python",
   "nbconvert_exporter": "python",
   "pygments_lexer": "ipython3",
   "version": "3.5.2"
  }
 },
 "nbformat": 4,
 "nbformat_minor": 2
}
