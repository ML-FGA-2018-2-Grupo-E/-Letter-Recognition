{
 "cells": [
  {
   "cell_type": "markdown",
   "metadata": {},
   "source": [
    "# Decision Tree"
   ]
  },
  {
   "cell_type": "markdown",
   "metadata": {},
   "source": [
    "Este algoritmo classifica a população em vários conjuntos com base em algumas propriedades (variáveis independentes) da mesma. Geralmente, esse algoritmo é usado para resolver problemas de classificação.\n",
    "\n",
    "Árvores, de um modo geral em computação, são estruturas de dados formadas por um conjunto de elementos que armazenam informações chamadas nós. Além disso, toda árvore possui um nó chamado raiz, que possui o maior nível hierárquico (o ponto de partida) e ligações para outros elementos, denominados filhos. Esses filhos podem possuir seus próprios filhos que por sua vez também possuem os seus. O nó que não possui filho é conhecido como nó folha ou terminal (representado pelo símbolo arredondado na figura).\n",
    "\n",
    "Tendo essas definições esclarecidas, uma árvore de decisão nada mais é que uma árvore que armazena regras em seus nós, e os nós folhas representam a decisão a ser tomada (no caso do exemplo, qual jogo escolher)."
   ]
  },
  {
   "cell_type": "markdown",
   "metadata": {},
   "source": [
    "## Treinando árvore de decisão e gerando lista de acurácia"
   ]
  },
  {
   "cell_type": "code",
   "execution_count": 11,
   "metadata": {},
   "outputs": [
    {
     "name": "stdout",
     "output_type": "stream",
     "text": [
      "Acurácia (16000 pontos usados para treinar): 0.87575\n"
     ]
    }
   ],
   "source": [
    "from sklearn import metrics, tree\n",
    "import numpy as np\n",
    "import pandas as pd\n",
    "\n",
    "\n",
    "data = 'data_set/letter-recognition.data'\n",
    "\n",
    "colums = [\n",
    "    'lettr', 'x-box', 'y-box', 'width', 'high', 'onpix', 'x-bar', 'y-bar',\n",
    "    'x2bar', 'y2bar', 'xybar', 'x2ybr', 'xy2br', 'x-ege', 'xegvy', 'y-ege',\n",
    "    'yegvx'\n",
    "]\n",
    "\n",
    "df = pd.read_csv(data, names=colums)\n",
    "\n",
    "accuracy_list = list()\n",
    "\n",
    "# Salvando acurácia em lista, aumentando pontos utilizados para\n",
    "# treinar de 100 em 100, até chegar em 16000\n",
    "for training_points_number in range(100, 16001, 100):\n",
    "\n",
    "    training_points = np.array(df[:training_points_number].drop(['lettr'], 1))\n",
    "    training_labels = np.array(df[:training_points_number]['lettr'])\n",
    "\n",
    "    clf = tree.DecisionTreeClassifier()\n",
    "    clf = clf.fit(training_points, training_labels)\n",
    "    \n",
    "    test_points = np.array(df[training_points_number:].drop(['lettr'], 1))\n",
    "    test_labels = np.array(df[training_points_number:]['lettr'])\n",
    "\n",
    "    accuracy = clf.score(test_points, test_labels)\n",
    "\n",
    "    accuracy_list.append(accuracy)\n",
    "    \n",
    "print(\"Acurácia ({} pontos usados para treinar): \".format(training_points_number) + str(accuracy))"
   ]
  },
  {
   "cell_type": "markdown",
   "metadata": {},
   "source": [
    "## Gerando gráfico de acurácia"
   ]
  },
  {
   "cell_type": "code",
   "execution_count": 12,
   "metadata": {},
   "outputs": [
    {
     "data": {
      "image/png": "[encoded data removed]",
      "text/plain": [
       "<Figure size 432x288 with 1 Axes>"
      ]
     },
     "metadata": {},
     "output_type": "display_data"
    }
   ],
   "source": [
    "%matplotlib inline\n",
    "import matplotlib.pyplot as plt\n",
    "\n",
    "xticks = ['100', '4000', '8000', '12000', '16000']\n",
    "\n",
    "plt.plot(accuracy_list)\n",
    "plt.xlabel('Pontos utilizados para treinar')\n",
    "plt.ylabel('Acurácia')\n",
    "plt.xticks(range(0, 161, 40), xticks, size='small')\n",
    "plt.show()"
   ]
  },
  {
   "cell_type": "markdown",
   "metadata": {},
   "source": [
    "## Gerando relatório com precisão, recall e f1-score"
   ]
  },
  {
   "cell_type": "code",
   "execution_count": 13,
   "metadata": {
    "scrolled": true
   },
   "outputs": [
    {
     "name": "stdout",
     "output_type": "stream",
     "text": [
      "             precision    recall  f1-score   support\n",
      "\n",
      "          A       0.97      0.91      0.94       156\n",
      "          B       0.80      0.88      0.84       136\n",
      "          C       0.89      0.89      0.89       142\n",
      "          D       0.83      0.88      0.85       167\n",
      "          E       0.79      0.86      0.83       152\n",
      "          F       0.85      0.84      0.85       153\n",
      "          G       0.89      0.80      0.84       164\n",
      "          H       0.78      0.80      0.79       151\n",
      "          I       0.91      0.91      0.91       165\n",
      "          J       0.91      0.91      0.91       148\n",
      "          K       0.83      0.86      0.84       146\n",
      "          L       0.90      0.94      0.92       157\n",
      "          M       0.97      0.93      0.95       144\n",
      "          N       0.87      0.86      0.86       166\n",
      "          O       0.79      0.83      0.81       139\n",
      "          P       0.87      0.85      0.86       168\n",
      "          Q       0.83      0.81      0.82       168\n",
      "          R       0.85      0.86      0.85       161\n",
      "          S       0.91      0.85      0.88       161\n",
      "          T       0.92      0.89      0.90       151\n",
      "          U       0.93      0.91      0.92       168\n",
      "          V       0.88      0.90      0.89       136\n",
      "          W       0.94      0.96      0.95       139\n",
      "          X       0.88      0.87      0.88       159\n",
      "          Y       0.88      0.92      0.90       145\n",
      "          Z       0.90      0.88      0.89       158\n",
      "\n",
      "avg / total       0.88      0.88      0.88      4000\n",
      "\n"
     ]
    }
   ],
   "source": [
    "predicted = clf.predict(test_points)\n",
    "\n",
    "# Gera relatório de classificação\n",
    "print(metrics.classification_report(test_labels, predicted))"
   ]
  },
  {
   "cell_type": "markdown",
   "metadata": {},
   "source": [
    "## Gerando matriz de confusão"
   ]
  },
  {
   "cell_type": "code",
   "execution_count": 14,
   "metadata": {},
   "outputs": [
    {
     "name": "stdout",
     "output_type": "stream",
     "text": [
      "[[142   0   0   1   1   0   1   1   0   1   0   1   1   0   1   0   1   0\n",
      "    0   0   1   2   0   0   2   0]\n",
      " [  0 119   0   3   0   3   1   0   1   1   1   0   0   0   2   1   0   3\n",
      "    0   0   0   0   0   1   0   0]\n",
      " [  2   0 126   0   3   0   2   1   0   0   0   1   0   1   1   0   1   0\n",
      "    1   0   1   0   1   0   1   0]\n",
      " [  0   2   0 147   1   0   1   5   1   0   0   0   0   2   2   0   0   5\n",
      "    0   0   0   0   0   1   0   0]\n",
      " [  0   2   2   0 131   1   3   0   0   0   0   1   0   0   0   1   1   0\n",
      "    2   0   0   0   0   4   0   4]\n",
      " [  0   1   1   0   1 129   0   2   2   0   0   0   0   2   0   9   1   0\n",
      "    1   0   0   3   0   0   1   0]\n",
      " [  0   2   4   1   3   0 132   2   2   0   3   2   0   0   2   2   4   0\n",
      "    1   1   0   2   0   0   1   0]\n",
      " [  0   3   0   2   2   3   1 121   0   2   7   0   1   0   0   2   0   5\n",
      "    0   2   0   0   0   0   0   0]\n",
      " [  0   1   2   0   1   1   0   0 150   1   0   1   0   0   0   0   0   2\n",
      "    1   0   0   0   0   2   0   3]\n",
      " [  0   1   0   1   0   1   0   0   4 135   0   0   0   0   1   1   0   0\n",
      "    0   0   2   0   0   0   0   2]\n",
      " [  0   1   0   1   4   1   1   6   0   0 125   0   0   0   0   1   0   2\n",
      "    0   1   0   0   0   3   0   0]\n",
      " [  0   0   1   0   2   1   0   2   0   0   0 147   0   1   1   0   1   0\n",
      "    0   0   0   0   0   0   1   0]\n",
      " [  0   0   0   0   0   2   0   2   0   0   0   0 134   2   2   1   0   0\n",
      "    0   0   1   0   0   0   0   0]\n",
      " [  0   1   0   4   0   0   0   2   0   0   0   1   1 143   3   0   1   1\n",
      "    0   1   1   1   2   1   3   0]\n",
      " [  0   1   0   5   0   1   2   1   0   0   0   0   0   1 115   2   8   2\n",
      "    0   0   0   0   1   0   0   0]\n",
      " [  0   1   0   3   0   5   1   0   3   1   0   1   0   0   1 142   0   1\n",
      "    0   0   2   2   1   2   2   0]\n",
      " [  0   0   2   1   2   0   1   1   0   0   5   0   0   0   8   1 136   2\n",
      "    3   2   3   1   0   0   0   0]\n",
      " [  0   4   0   1   0   0   1   2   0   1   3   2   0   3   0   0   3 138\n",
      "    1   1   0   0   0   1   0   0]\n",
      " [  0   5   0   3   2   1   0   2   0   1   1   1   0   0   1   0   0   1\n",
      "  137   0   0   1   1   1   0   3]\n",
      " [  0   1   0   0   1   3   0   0   0   0   0   2   0   0   1   0   1   0\n",
      "    1 134   0   0   0   0   5   2]\n",
      " [  0   1   1   0   0   0   1   1   0   1   0   0   0   6   2   0   0   0\n",
      "    0   1 153   0   0   1   0   0]\n",
      " [  0   1   0   0   0   0   1   0   0   0   0   0   1   2   1   0   1   0\n",
      "    0   1   0 123   2   0   3   0]\n",
      " [  0   0   0   0   0   0   0   0   0   0   0   0   0   2   0   0   1   0\n",
      "    0   0   0   2 134   0   0   0]\n",
      " [  1   1   2   1   4   0   0   2   1   2   5   1   0   0   1   0   0   0\n",
      "    0   0   0   0   0 138   0   0]\n",
      " [  1   0   0   1   0   0   0   0   0   2   0   0   0   0   0   0   2   0\n",
      "    0   2   0   2   0   1 133   1]\n",
      " [  0   0   0   3   7   0   0   2   0   1   0   2   0   0   0   0   1   0\n",
      "    3   0   0   0   0   0   0 139]]\n"
     ]
    }
   ],
   "source": [
    "# Gera matriz de confusão\n",
    "print(metrics.confusion_matrix(test_labels, predicted))"
   ]
  },
  {
   "cell_type": "markdown",
   "metadata": {},
   "source": [
    "## Exportando desenho da árvore de decisão"
   ]
  },
  {
   "cell_type": "code",
   "execution_count": 15,
   "metadata": {},
   "outputs": [
    {
     "data": {
      "text/plain": [
       "'decision_tree.pdf'"
      ]
     },
     "execution_count": 15,
     "metadata": {},
     "output_type": "execute_result"
    }
   ],
   "source": [
    "import graphviz \n",
    "\n",
    "feature_names = colums.copy()\n",
    "feature_names.remove('lettr')\n",
    "\n",
    "dot_data = tree.export_graphviz(clf, out_file=None, \n",
    "                                feature_names=feature_names,  \n",
    "                                class_names=training_labels,  \n",
    "                                filled=True, rounded=True,  \n",
    "                                special_characters=True, rotate=True) \n",
    "graph = graphviz.Source(dot_data) \n",
    "graph.render(\"decision_tree\")"
   ]
  }
 ],
 "metadata": {
  "kernelspec": {
   "display_name": "Python 3",
   "language": "python",
   "name": "python3"
  },
  "language_info": {
   "codemirror_mode": {
    "name": "ipython",
    "version": 3
   },
   "file_extension": ".py",
   "mimetype": "text/x-python",
   "name": "python",
   "nbconvert_exporter": "python",
   "pygments_lexer": "ipython3",
   "version": "3.6.5"
  }
 },
 "nbformat": 4,
 "nbformat_minor": 2
}
