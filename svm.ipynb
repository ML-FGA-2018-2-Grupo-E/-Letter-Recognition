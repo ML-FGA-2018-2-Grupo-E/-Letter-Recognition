{
 "cells": [
  {
   "cell_type": "markdown",
   "metadata": {},
   "source": [
    "# Support vector machines\n",
    "\n",
    "**Support vector machines (SVMs)** são um conjunto de métodos de aprendizado de máquina supervisionados usados para classificação, regressão.\n",
    "\n",
    "As vantagens do SVM são:\n",
    " * Eficácia em espaços dimensionais elevados.\n",
    " * Ainda é eficaz nos casos em que o número de dimensões é maior que o número de amostras.\n",
    " * Usa um subconjunto de pontos de treinamento na função de decisão (chamados vetores de suporte), portanto, também é eficiente em termos de memória.\n"
   ]
  },
  {
   "cell_type": "code",
   "execution_count": 4,
   "metadata": {},
   "outputs": [],
   "source": [
    "import numpy as np\n",
    "from sklearn.svm import SVC\n",
    "import pandas as pd\n",
    "from sklearn import metrics\n",
    "\n",
    "PATH = './data_set/letter-recognition.data'\n",
    "\n",
    "colums = [\n",
    "    'lettr', 'x-box', 'y-box', 'width', 'high', 'onpix', 'x-bar', 'y-bar',\n",
    "    'x2bar', 'y2bar', 'xybar', 'x2ybr', 'xy2br', 'x-ege', 'xegvy', 'y-ege',\n",
    "    'yegvx'\n",
    "]\n",
    "\n",
    "df = pd.read_csv(PATH, names=colums)\n",
    "\n",
    "rangeAccuracy = []\n",
    "\n",
    "for ite in range(1,161):\n",
    "    training_points = np.array(df[:(ite*100)].drop(['lettr'], 1))\n",
    "    training_labels = np.array(df[:(ite*100)]['lettr'])\n",
    "\n",
    "    clf = SVC()\n",
    "    clf.fit(training_points, training_labels) \n",
    "\n",
    "    test_points = np.array(df[16000:].drop(['lettr'], 1))\n",
    "    test_labels = np.array(df[16000:]['lettr'])\n",
    "\n",
    "    expected = test_labels\n",
    "    predicted = clf.predict(test_points)\n",
    "\n",
    "    accuracy = clf.score(test_points, test_labels)\n",
    "\n",
    "    rangeAccuracy.append(accuracy)"
   ]
  },
  {
   "cell_type": "markdown",
   "metadata": {},
   "source": [
    "# Acurácia"
   ]
  },
  {
   "cell_type": "code",
   "execution_count": 5,
   "metadata": {},
   "outputs": [
    {
     "data": {
      "image/png": "[encoded data removed]",
      "text/plain": [
       "<Figure size 432x288 with 1 Axes>"
      ]
     },
     "metadata": {},
     "output_type": "display_data"
    }
   ],
   "source": [
    "%matplotlib inline\n",
    "import matplotlib.pyplot as plt\n",
    "\n",
    "xticks = ['100', '4000', '8000', '12000', '16000']\n",
    "\n",
    "plt.plot(rangeAccuracy)\n",
    "plt.xlabel('Pontos utilizados para treinar')\n",
    "plt.ylabel('Acurácia')\n",
    "plt.xticks(range(0, 161, 40), xticks, size='small')\n",
    "plt.show()"
   ]
  },
  {
   "cell_type": "markdown",
   "metadata": {},
   "source": [
    "# Relatório de Precision, Recall e F1-score"
   ]
  },
  {
   "cell_type": "code",
   "execution_count": 8,
   "metadata": {},
   "outputs": [
    {
     "name": "stdout",
     "output_type": "stream",
     "text": [
      "Final general accuracy: 0.97225\n",
      "             precision    recall  f1-score   support\n",
      "\n",
      "          A       0.99      0.99      0.99       156\n",
      "          B       0.93      0.99      0.96       136\n",
      "          C       0.98      0.96      0.97       142\n",
      "          D       0.93      0.98      0.96       167\n",
      "          E       0.96      0.97      0.97       152\n",
      "          F       0.98      0.97      0.97       153\n",
      "          G       0.98      0.97      0.98       164\n",
      "          H       0.91      0.89      0.90       151\n",
      "          I       0.98      0.96      0.97       165\n",
      "          J       0.95      0.97      0.96       148\n",
      "          K       0.94      0.97      0.95       146\n",
      "          L       1.00      0.96      0.98       157\n",
      "          M       0.97      0.99      0.98       144\n",
      "          N       0.99      0.95      0.97       166\n",
      "          O       0.97      0.99      0.98       139\n",
      "          P       0.99      0.95      0.97       168\n",
      "          Q       0.99      0.98      0.99       168\n",
      "          R       0.96      0.96      0.96       161\n",
      "          S       0.99      1.00      1.00       161\n",
      "          T       1.00      0.97      0.99       151\n",
      "          U       0.99      1.00      0.99       168\n",
      "          V       0.98      0.98      0.98       136\n",
      "          W       0.99      0.99      0.99       139\n",
      "          X       0.96      0.97      0.96       159\n",
      "          Y       0.98      0.98      0.98       145\n",
      "          Z       0.98      0.99      0.99       158\n",
      "\n",
      "avg / total       0.97      0.97      0.97      4000\n",
      "\n",
      "[[155   0   0   0   0   0   0   0   0   0   0   0   0   0   0   0   0   0\n",
      "    0   0   0   0   0   0   1   0]\n",
      " [  0 134   0   0   0   0   0   0   0   0   0   0   0   0   0   0   0   0\n",
      "    1   0   0   0   0   1   0   0]\n",
      " [  0   0 136   0   2   0   1   0   0   0   0   0   0   0   2   0   0   0\n",
      "    0   0   0   0   1   0   0   0]\n",
      " [  0   1   0 164   0   0   0   2   0   0   0   0   0   0   0   0   0   0\n",
      "    0   0   0   0   0   0   0   0]\n",
      " [  0   0   1   0 148   0   0   0   0   0   0   0   0   0   0   0   0   0\n",
      "    0   0   0   0   0   0   0   3]\n",
      " [  0   0   0   0   2 148   0   0   0   0   0   0   0   0   0   2   0   0\n",
      "    0   0   0   1   0   0   0   0]\n",
      " [  0   0   1   2   1   0 159   0   0   0   0   0   1   0   0   0   0   0\n",
      "    0   0   0   0   0   0   0   0]\n",
      " [  0   1   0   5   1   0   2 135   0   0   2   0   1   0   0   0   0   4\n",
      "    0   0   0   0   0   0   0   0]\n",
      " [  0   0   0   0   0   0   0   0 158   6   0   0   0   1   0   0   0   0\n",
      "    0   0   0   0   0   0   0   0]\n",
      " [  0   0   0   0   0   0   0   0   3 144   0   0   0   0   0   0   0   0\n",
      "    0   0   1   0   0   0   0   0]\n",
      " [  0   0   0   0   0   0   0   2   0   0 141   0   0   0   0   0   0   1\n",
      "    0   0   0   0   0   2   0   0]\n",
      " [  0   1   0   0   0   0   0   2   0   1   0 150   0   0   0   0   0   0\n",
      "    0   0   0   0   0   3   0   0]\n",
      " [  0   1   0   0   0   0   0   0   0   0   0   0 143   0   0   0   0   0\n",
      "    0   0   0   0   0   0   0   0]\n",
      " [  0   0   0   0   0   0   0   3   0   0   0   0   1 158   1   0   0   1\n",
      "    0   0   0   2   0   0   0   0]\n",
      " [  0   0   1   0   0   0   0   0   0   0   0   0   0   0 137   0   1   0\n",
      "    0   0   0   0   0   0   0   0]\n",
      " [  0   1   0   0   0   3   0   3   0   0   0   0   0   0   0 160   1   0\n",
      "    0   0   0   0   0   0   0   0]\n",
      " [  1   0   0   1   0   0   0   0   0   0   0   0   0   0   1   0 165   0\n",
      "    0   0   0   0   0   0   0   0]\n",
      " [  0   1   0   0   0   0   0   1   0   0   3   0   0   1   0   0   0 155\n",
      "    0   0   0   0   0   0   0   0]\n",
      " [  0   0   0   0   0   0   0   0   0   0   0   0   0   0   0   0   0   0\n",
      "  161   0   0   0   0   0   0   0]\n",
      " [  0   0   0   2   0   0   0   0   0   0   0   0   0   0   0   0   0   1\n",
      "    0 147   0   0   0   0   1   0]\n",
      " [  0   0   0   0   0   0   0   0   0   0   0   0   0   0   0   0   0   0\n",
      "    0   0 168   0   0   0   0   0]\n",
      " [  0   3   0   0   0   0   0   0   0   0   0   0   0   0   0   0   0   0\n",
      "    0   0   0 133   0   0   0   0]\n",
      " [  0   0   0   0   0   0   0   0   0   0   1   0   1   0   0   0   0   0\n",
      "    0   0   0   0 137   0   0   0]\n",
      " [  0   1   0   1   0   0   0   0   0   0   3   0   0   0   0   0   0   0\n",
      "    0   0   0   0   0 154   0   0]\n",
      " [  0   0   0   1   0   0   0   0   0   0   0   0   0   0   0   0   0   0\n",
      "    0   0   1   0   0   1 142   0]\n",
      " [  0   0   0   0   0   0   0   0   0   0   0   0   0   0   0   0   0   0\n",
      "    0   0   0   0   0   0   1 157]]\n"
     ]
    }
   ],
   "source": [
    "print('Final general accuracy: ' + str(accuracy))\n",
    "print(metrics.classification_report(expected, predicted))\n",
    "print(metrics.confusion_matrix(expected, predicted))"
   ]
  }
 ],
 "metadata": {
  "kernelspec": {
   "display_name": "Python 3",
   "language": "python",
   "name": "python3"
  },
  "language_info": {
   "codemirror_mode": {
    "name": "ipython",
    "version": 3
   },
   "file_extension": ".py",
   "mimetype": "text/x-python",
   "name": "python",
   "nbconvert_exporter": "python",
   "pygments_lexer": "ipython3",
   "version": "3.6.5"
  }
 },
 "nbformat": 4,
 "nbformat_minor": 2
}
